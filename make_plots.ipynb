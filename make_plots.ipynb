
 "cells": [
  {
   "cell_type": "code",
   "execution_count": 242,
   "metadata": {},
   "outputs": [],
   "source": [
    "import pandas as pd\n",
    "from matplotlib import pyplot as plt\n",
    "import pytz\n",
    "import datetime\n",
    "from datetime import timezone\n",
    "from numpy import trapz\n",
    "import numpy as np\n",
    "import os\n",
    "import ast"
   ]
  },
  {
   "cell_type": "code",
   "execution_count": 294,
   "metadata": {},
   "outputs": [
    {
     "name": "stdout",
     "output_type": "stream",
     "text": [
      "['.sys.v#.gpu_benchmarks.csv', '.sys.v#.reduced.csv', '.sys.v#.variable_ps.csv', 'gpu_benchmarks.csv', 'reduced.csv', 'variable_ps.csv']\n"
     ]
    }
   ],
   "source": [
    "#data_dir = '../../grafana_data/exp_multiple_workers_2/'\n",
    "data_dir = '../../grafana_data/all_experiments/'\n",
    "#data_dir = '../../grafana_data/exp_1_worker/'\n",
    "print(os.listdir(data_dir))\n",
    "#filepaths = [data_dir + 'dejan-resnet50-256-ps-16-workers-16.csv',\n",
    "#             data_dir + 'dejan-inception4-128-ps-16-workers-16.csv']\n",
    "filepaths = [data_dir + 'gpu_benchmarks.csv']\n",
    "filepaths = [data_dir + 'experiments.csv']\n",
    "filepaths = [data_dir + 'reduced.csv']\n",
    "filepaths = [data_dir + 'variable_ps.csv']"
   ]
  },
  {
   "cell_type": "code",
   "execution_count": 295,
   "metadata": {},
   "outputs": [],
   "source": [
    "gpu_info = None\n",
    "for filepath in filepaths:\n",
    "    gpu_tmp = pd.read_csv(filepath)\n",
    "    if gpu_info is None:\n",
    "        gpu_info = gpu_tmp\n",
    "    else:\n",
    "        gpu_info = gpu_info.append(gpu_tmp, ignore_index=True)\n",
    "\n",
    "#gpu_info['gpu-utilization'] = gpu_info['gpu-utilization'].astype(object)\n",
    "#gpu_info['gpu-memory'] = gpu_info['gpu-memory'].astype(object)\n",
    "#gpu_info['gpu-power-usage'] = gpu_info['gpu-power-usage'].astype(object)\n",
    "#gpu_info['gpu-temperature'] = gpu_info['gpu-temperature'].astype(object)"
   ]
  },
  {
   "cell_type": "code",
   "execution_count": null,
   "metadata": {},
   "outputs": [],
   "source": [
    "grafana_gpu_power_usage = pd.read_csv(data_dir + 'grafana_gpu_power_usage.csv', sep=';')"
   ]
  },
  {
   "cell_type": "code",
   "execution_count": null,
   "metadata": {},
   "outputs": [],
   "source": [
    "grafana_gpu_utilization = pd.read_csv(data_dir + 'grafana_gpu_utilization.csv', sep=';')"
   ]
  },
  {
   "cell_type": "code",
   "execution_count": null,
   "metadata": {},
   "outputs": [],
   "source": [
    "grafana_gpu_memory = pd.read_csv(data_dir + 'grafana_gpu_memory.csv', sep=';')"
   ]
  },
  {
   "cell_type": "code",
   "execution_count": null,
   "metadata": {},
   "outputs": [],
   "source": [
    "grafana_gpu_temperature = pd.read_csv(data_dir + 'grafana_gpu_temperature.csv', sep=';')"
   ]
  },
  {
   "cell_type": "code",
   "execution_count": null,
   "metadata": {},
   "outputs": [],
   "source": [
    "def get_grafana_info(gpu_info, grafana_df, tolerance_min=15):\n",
    "    grafana_df['Time'] = pd.to_datetime(grafana_df['Time'], format='%Y-%m-%dT%H:%M:%S')\n",
    "    grafana_df['Time'] = grafana_df['Time'].dt.tz_convert(tz='Etc/GMT-2')\n",
    "\n",
    "    start_time = pd.date_range(gpu_info['start-time'], periods=1) + pd.Timedelta(minutes=-tolerance_min)\n",
    "    end_time = pd.date_range(gpu_info['end-time'], periods=1) + pd.Timedelta(minutes=tolerance_min)\n",
    "\n",
    "    new_start = pd.date_range(start_time[0].replace(tzinfo=timezone.utc), periods=1)\n",
    "    new_end = pd.date_range(end_time[0].replace(tzinfo=timezone.utc), periods=1)\n",
    "    \n",
    "    res_df = grafana_df.loc[(grafana_df['Series'] == gpu_info['nvidia-plugins'] + '-gpu0') & \\\n",
    "                            (grafana_df['Time'] > new_start[0]) & \\\n",
    "                            (grafana_df['Time'] <= new_end[0])]\n",
    "    \n",
    "    values = res_df['Value'].values\n",
    "    \n",
    "    return values"
   ]
  },
  {
   "cell_type": "code",
   "execution_count": null,
   "metadata": {
    "scrolled": true
   },
   "outputs": [],
   "source": [
    "def print_grafana_info(values, label='info'):\n",
    "    if all(v == 0 for v in values):\n",
    "        print('\\tERROR')\n",
    "    else:\n",
    "        print('\\t' + label + ' = ' + str(max(values)))\n",
    "\n",
    "for index, row in gpu_info.iterrows():\n",
    "    print(row['model'], row['batch-size'], row['nvidia-plugins'])\n",
    "    tolerance_min = 3\n",
    "    \n",
    "    gpu_utilization = get_grafana_info(row, grafana_gpu_utilization, tolerance_min)\n",
    "    print(gpu_utilization)\n",
    "    print(index)\n",
    "    print_grafana_info(gpu_utilization, 'gpu_utilization')\n",
    "    gpu_info['gpu-utilization'] = gpu_info['gpu-utilization'].astype(object)\n",
    "    gpu_info.at[index, 'gpu-utilization'] = gpu_utilization\n",
    "    \n",
    "    gpu_memory = get_grafana_info(row, grafana_gpu_memory)\n",
    "    print_grafana_info(gpu_memory, 'gpu_memory')\n",
    "    gpu_info.at[index, 'gpu-memory'] = gpu_memory\n",
    "        \n",
    "    gpu_power_usage = get_grafana_info(row, grafana_gpu_power_usage, tolerance_min)\n",
    "    print_grafana_info(gpu_power_usage, 'gpu_power_usage')\n",
    "    gpu_info.at[index, 'gpu-power-usage'] = gpu_power_usage\n",
    "    \n",
    "    gpu_temperature = get_grafana_info(row, grafana_gpu_temperature, tolerance_min)\n",
    "    print_grafana_info(gpu_temperature, 'gpu_temperature')\n",
    "    gpu_info.at[index, 'gpu-temperature'] = gpu_temperature\n",
    "        \n",
    "    print()\n",
    "\n",
    "outpath = 'experiments-with-grafana.csv'\n",
    "gpu_info.to_csv(outpath)"
   ]
  },
  {
   "cell_type": "code",
   "execution_count": 296,
   "metadata": {},
   "outputs": [],
   "source": [
    "#gpu_info_full = pd.read_csv(outpath)\n",
    "gpu_info_full = gpu_info"
   ]
  },
  {
   "cell_type": "code",
   "execution_count": 245,
   "metadata": {},
   "outputs": [],
   "source": [
    "titles = {'gpu-power-usage': 'Power', \\\n",
    "          'gpu-utilization': 'Utilization', \\\n",
    "          'gpu-memory': 'Memory', \\\n",
    "          'gpu-temperature': 'Temperature',\n",
    "          'imgs-per-second': 'Images per Second'}\n",
    "\n",
    "units = {'gpu-power-usage': '[mW]', \\\n",
    "          'gpu-utilization': '[%]', \\\n",
    "          'gpu-memory': '[%]', \\\n",
    "          'gpu-temperature': '[C]'}"
   ]
  },
  {
   "cell_type": "code",
   "execution_count": 246,
   "metadata": {},
   "outputs": [],
   "source": [
    "def get_list(string, f=lambda x:float(x)):\n",
    "    lst = str(string[1:-1]).split()\n",
    "    return [f(x) for x in lst]"
   ]
  },
  {
   "cell_type": "code",
   "execution_count": 247,
   "metadata": {},
   "outputs": [],
   "source": [
    "def get_max(model, column, x_axis_name='batch-size'):\n",
    "    model_df = gpu_info_full.loc[(gpu_info_full['model'] == model)].sort_values(by=[x_axis_name])\n",
    "    res = []\n",
    "    x_axis = []\n",
    "    for index, row in model_df.iterrows():\n",
    "        res.append(max(get_list(model_df.at[index, column])))\n",
    "        x_axis.append(model_df.at[index, x_axis_name])\n",
    "    \n",
    "    return res, x_axis"
   ]
  },
  {
   "cell_type": "code",
   "execution_count": 248,
   "metadata": {},
   "outputs": [],
   "source": [
    "def scatter_all_max(column):\n",
    "    alexnet_max_power, alexnet_xaxis = get_max('alexnet', column)\n",
    "    resnet_max_power, resnset_xaxis = get_max('resnet50', column)\n",
    "    inception_max_power, inception_xaxis = get_max('inception4', column)\n",
    "    \n",
    "    x_alexnet = np.arange(len(alexnet_max_power))\n",
    "    x_resnet = np.arange(len(resnet_max_power))\n",
    "    x_inception = np.arange(len(inception_max_power))\n",
    "    \n",
    "    plt.bar(x_alexnet - 0.2, alexnet_max_power, width=0.2)\n",
    "    plt.bar(x_resnet, resnet_max_power, width=0.2)\n",
    "    plt.bar(x_inception + 0.2, inception_max_power, width=0.2)\n",
    "    plt.legend(['alexnet', 'resnet', 'inception'])\n",
    "    plt.xticks(np.arange(len(alexnet_xaxis)), alexnet_xaxis)\n",
    "    plt.xlabel('Batch Size')\n",
    "    plt.title('GPU ' + titles[column] + ' ' + units[column] + ', Workers = 1, ' + 'PS = 1')\n",
    "    \n",
    "    #plt.savefig('plots/' + column + '-ps-16-workers-16.jpg', dpi=128)\n",
    "    plt.show()"
   ]
  },
  {
   "cell_type": "code",
   "execution_count": 249,
   "metadata": {},
   "outputs": [],
   "source": [
    "def scatter_multiple_gpus(column):\n",
    "    resnet_max_power, resnset_xaxis = get_max('resnet50', column, x_axis_name='nvidia-plugins')\n",
    "    inception_max_power, inception_xaxis = get_max('inception4', column, x_axis_name='nvidia-plugins')\n",
    "    \n",
    "    x_resnet = np.arange(len(resnet_max_power))\n",
    "    x_inception = np.arange(len(inception_max_power))\n",
    "    \n",
    "    plt.bar(x_resnet, resnet_max_power, width=0.2)\n",
    "    plt.bar(x_inception + 0.2, inception_max_power, width=0.2)\n",
    "    plt.legend(['resnet', 'inception'], bbox_to_anchor=(1, 1))\n",
    "    plt.xticks(np.arange(len(x_resnet)), x_resnet)\n",
    "    plt.xlabel('Worker GPU ID')\n",
    "    plt.title('GPU ' + titles[column] + ' ' + units[column] + ', Workers = 16, ' + 'PS = 16')\n",
    "    \n",
    "    plt.savefig('plots/' + column + '-multi-worker-ps-16-workers-16.jpg', dpi=128, bbox_inches='tight')\n",
    "    plt.show()"
   ]
  },
  {
   "cell_type": "code",
   "execution_count": 250,
   "metadata": {},
   "outputs": [],
   "source": [
    "def get_value(model, column, x_axis_name='batch-size'):\n",
    "    model_df = gpu_info_full.loc[(gpu_info_full['model'] == model)].sort_values(by=[x_axis_name])\n",
    "    model_df = model_df.loc[model_df[x_axis_name] <= 2048]\n",
    "    return model_df[column].values, model_df[x_axis_name].values"
   ]
  },
  {
   "cell_type": "code",
   "execution_count": 251,
   "metadata": {},
   "outputs": [],
   "source": [
    "def plot_column(column):\n",
    "    alexnet_col, alexnet_xaxis = get_value('alexnet', column)\n",
    "    resnet_col, resnset_xaxis = get_value('resnet50', column)\n",
    "    inception_col, inception_xaxis = get_value('inception4', column)\n",
    "    \n",
    "    x_alexnet = np.arange(len(alexnet_col))\n",
    "    x_resnet = np.arange(len(resnet_col))\n",
    "    x_inception = np.arange(len(inception_col))\n",
    "    \n",
    "    plt.bar(x_alexnet - 0.25, alexnet_col, width=0.2)\n",
    "    plt.bar(x_resnet, resnet_col, width=0.2)\n",
    "    plt.bar(x_inception + 0.25, inception_col, width=0.2)\n",
    "    plt.legend(['alexnet, batch_size=2048', 'resnet50, batch_size=256', 'inception4, batch_size=128'], \\\n",
    "               bbox_to_anchor=(1, 1))\n",
    "    plt.xticks(np.arange(len(alexnet_xaxis)), [1, 2, 4, 8, 16])\n",
    "    plt.xlabel('Worker Replicas (= PS Replicas)')\n",
    "    plt.title('GPU ' + titles[column])\n",
    "    plt.yscale('log')\n",
    "    \n",
    "    plt.savefig('plots/' + column + '-variable-ps-workers-log.jpg', dpi=128, bbox_inches='tight')\n",
    "    plt.show()"
   ]
  },
  {
   "cell_type": "code",
   "execution_count": 297,
   "metadata": {},
   "outputs": [],
   "source": [
    "def get_value_2(model, column, x_axis_name='batch-size'):\n",
    "    model_df = gpu_info_full.loc[(gpu_info_full['model'] == model)].sort_values(by=[x_axis_name])\n",
    "\n",
    "    return model_df[column].values, model_df[x_axis_name].values"
   ]
  },
  {
   "cell_type": "code",
   "execution_count": 298,
   "metadata": {},
   "outputs": [],
   "source": [
    "def plot_column_2(column, x_axis_name):\n",
    "    alexnet_col, alexnet_xaxis = get_value_2('alexnet', column, x_axis_name)\n",
    "    resnet_col, resnset_xaxis = get_value_2('resnet50', column, x_axis_name)\n",
    "    inception_col, inception_xaxis = get_value_2('inception4', column, x_axis_name)\n",
    "    \n",
    "    print(alexnet_col)\n",
    "    print(resnet_col)\n",
    "    print(inception_col)\n",
    "    \n",
    "    x_alexnet = np.arange(len(alexnet_col))\n",
    "    x_resnet = np.arange(len(resnet_col))\n",
    "    x_inception = np.arange(len(inception_col))\n",
    "    \n",
    "    plt.bar(x_alexnet - 0.25, alexnet_col, width=0.2)\n",
    "    plt.bar(x_resnet, resnet_col, width=0.2)\n",
    "    plt.bar(x_inception + 0.25, inception_col, width=0.2)\n",
    "    plt.legend(['alexnet, batch_size=2048', 'resnet50, batch_size=256', 'inception4, batch_size=128'], \\\n",
    "               bbox_to_anchor=(1, 1))\n",
    "    plt.xticks(np.arange(len(x_resnet)), [1, 2, 4, 8, 16])\n",
    "    plt.xlabel('PS Replicas')\n",
    "    plt.title('GPU ' + titles[column] + ', Workers Replicas = 16')\n",
    "    #plt.yscale('log')\n",
    "    \n",
    "    plt.savefig('plots/' + column + '-variable-ps.jpg', dpi=128, bbox_inches='tight')\n",
    "    plt.show()"
   ]
  },
  {
   "cell_type": "code",
   "execution_count": 299,
   "metadata": {},
   "outputs": [
    {
     "name": "stdout",
     "output_type": "stream",
     "text": [
      "[1614.   2704.58    0.      0.   2749.76]\n",
      "[ 585.68 1081.01 1666.03 2286.86 2574.2 ]\n",
      "[159.21 294.4  484.14 737.79 851.08]\n"
     ]
    },
    {
     "data": {
      "image/png": "iVBORw0KGgoAAAANSUhEUgAAAjEAAAEWCAYAAACXLsbnAAAABHNCSVQICAgIfAhkiAAAAAlwSFlzAAALEgAACxIB0t1+/AAAADh0RVh0U29mdHdhcmUAbWF0cGxvdGxpYiB2ZXJzaW9uMy4xLjAsIGh0dHA6Ly9tYXRwbG90bGliLm9yZy+17YcXAAAgAElEQVR4nO3deVxVdf4/8Nebyy5IkIAIKir74hKGWplLVmhWllaWNWZjOpqjpTk/K2vMbJvRFivLrEYtJyszKzVntEKdb2qDueCCiokrIioCLuzv3x/n3OaGrIrgkdfz8bgP7v2cz/mc9zn3wn3z+XzOOaKqICIiIrIap4YOgIiIiOhCMIkhIiIiS2ISQ0RERJbEJIaIiIgsiUkMERERWRKTGCIiIrIkJjFEtSAic0VkWkPHAQAiMkVEPmnoOOqS4/EVke4isquhYyKiy1ejT2JEZLCIbBCRMyJyzHw+WkTEXD5XRIpE5LSInBSRlSIS5bBsWrn2QkVERcS5ku2piIRd+j2zJhH5o4ikiUi+iGSJyDIR8W7ouGpLRLqJSJ6I2BzK5lRS9l7DRHlhRCRDRM6ZvxNHzd8Dr7rejqquVdXIum63ronIvSLyk4icFZHkCpbbRGSaiBwxP9ebROSqBgiV6IrTqJMYEZkA4E0AfwfQHEAggD8BuB6Aq0PVv6mqF4AQAMcAzK3fSK88FSV5ItIDwEsA7ldVbwDRAD6v79jqSAoAG4BrHMq6AzhSruxGAGtq23hlSfKFuMC2bjd/JzoC6ATgqbqKx4JOAngDwCuVLH8ewHUAugFoCuAhAAX1ExrRla3RJjEi4gNgKoDRqrpIVfPVsElVh6hqYfl1VPUsgH8CiKujGKaIyBci8on5H1qqiESIyFNmr9BBEbnFof4wEdlp1v1VREaWa+8vIpJp/sc33LHXR0TcRGS6iBwwezjeExEPc1kzEVkqIqfM3qa1IlLhZ8Nsc6y5/eMi8nfHuiLyiBljjoj8S0Ral1v3MRHZA2BPBc1fC2Cdqm4CAFU9qarzVDW/un0wl98pIpvN3o69IpJklrcQkW/MfUsXkUfLvQefi8h887huF5HODss7icgv5rLPALjX5L1V1WIA62EkKRCRABiJ8WflyiJgJjE1iHOR+VnJA/BwuffFRUQ+FZEvRcRVRJxEZJJ5HE6Y++hn1rX3Fv5RRA4A+EFE3M22T5ifg/+KSGAN9vMogH/BSGbssVT1WespIodE5Gnz85MhIkMqatte1+F1SxFZLCLZZpxvm+XtROQHs+y4iCwQh54OEfl/InLYfA93ichN1e1XbajqKlX9HEaCWn4ffAE8DuBRVd1v/o3ZpqpMYojqQKNNYmD8V+QG4OuariBGl/kQAJvqMI7bAXwMwNds918w3pdgGEnWbIe6xwD0h/Hf3DAAr4vINWZsSQDGA+gDIAxAj3LbeRXGF2ZHc3kwgOfMZRMAHALgD6M36mkAVd2P4i4AnWH0KNwJ4BEzhgHmunebba0F8Gm5dQcA6AIgpoJ2NwC4VUSeF5HrRcStpvsgIokA5gOYCOAqGIlChrnep+b+tQAwCMBL5b7I7gCw0FzvGwD2L0dXAEtgvD9+AL4AMLCK41LeGjMOmD//Yz4cy/apqv2Luro47wSwyIxzgb3QTBCWACgEcK+qFgEYC+NY9zDbywHwTrn4esDo7boVwFAAPgBaArgaRo/kuep2UERCAPQFkO5QXNVnDTB6PZuZ5UMBvC8iVQ4biTEEtxTAfgCh5roL7YsBvGzuZ7S5D1PM9SIBjAFwrdm7dyv+97kov41JZgJX4aO6Y1GJeAAlAAaJMfS2W0Qeu8C2iKg8VW2UDwAPAjharuwnAKdg/PG+0SybC6Pr9xSAozC+5No5LJtWro1QGAmAcyXbVQBh5vMpAFY6LLsdwGkANvO1t1n/qkraWgJgnPn8IwAvOywLs28Lxh/5M/a4zeXdYHyBAkay9LU9rmqOmwJIcng9GsD35vPvAPzRYZkTgLMAWjus27ua9vsC+NY83qcBvAZjWKa6fZgN4PUK2msJoBSAt0PZywDmOrwHqxyWxQA4Zz6/EcZ/11LuMzKtqn1wqNsTwAkz9jcBPArAC0CWQ9k/ahHnmnLtTzE/j6sBzCwX504ANzm8DgJQDMAZ//uMtnVY/oi5b+1rsF8Z5nuTb7bzvf0zWoP3qSeML/UmDss/B/Bs+d8ps+4hhzayUcnvVbn4BgDY5PB7cAxGcu9Sm78RtX0AGA4guVzZA+Yx+hCAB4D25n7cfClj4YOPxvJozD0xJwA0E4f5AKp6napeZS5zPDbTVfUqVW2uqneo6l6zvASAS7l2XQCUmY+ayHJ4fg7AcVUtdXgNGF98EJG+IrLeHG44BaAfjP9oAeO/0IMObTk+9wfgCWCjw3+VK8xywJgTlA7g32IME02qJmbHtveb2waA1gDedNjGSRhfasGVrHseVf1OVW+H0fNxJ4xhk+E12IeWAPae3yJaADip5pCUQ8yOMR11eH4WgLv5uWgB4LCqarl1a2o9jPcuDkZCtFZVT8M4BvYy+3yYmsRZ0bHrCuOL8ZVycbYG8JXDsdoJI0lyHCJybO9jGL2AC8UYjvybiJT/bDsaoEbPRk8AUfjf57C69wkAclT1TLn9bIGqtQSwX1VLyi8QkQARWWgOGeUB+MQej6qmwxjOmQLgmFmvum3VJfvv8FRVPaeqW2H0IPWrxxiIrliNOYlZB6P7/c6LaOMAjP9qHbUBcFBVa5rE1Ig5tPIlgOkAAs1kazmMJAEAMmFMPLZr6fD8OIw/prFmMnaVqvqoMTETaswHmqCqbWH0Bo2vZt6AY9ut8L+5AAcBjHTYxlWq6qGqPznUr9Ft01W1TFW/B/ADjC/8KvfB3Ha7Cpo6AsBPfn+GUysAh2sQRiaAYBERh7JWNYnf3IcCAP+FMQQYpKpp5qK1Zll7/C+JqUmcFR27f8Posfm+3ByWgwD6lnsv3FW1wvZUtVhVn1fVGBiTUPsD+EMN9nE1jN6T6WZRde8TAPiKSJNy+3nefJJyDgJoJRVPQn7Z3Jf2qtoURi/rb++Zqv5TVW+AkdgpjOGu85jzdE5X9qgmvspstYdxgesTURUabRKjqqdgnDUwS0QGiYiXORmyI4Am1axu9yWA20TkFjFOo2wBYDL+N1Zfl1xhzOHJBlAiIn0B3OKw/HMAw0QkWkQ84TAHwUyo5sCYQxMAACISLCK3ms/7i0iY+WWdB+M/9lJUbqKI+IpISwDjYExWBYD3ADwlIrFmuz4ick9Nd1CMibmDzbbFnOfSA8D66vYBRnf9MBG5yXwfg0UkSlUPwhgmeVmMyavtAfwRDnNKqrAORm/bWBFxFpG7ASSWi1lFpGcVbayB0RPgmMj9xyw7au/Vu5g4VfVvMCacfy8i9h6R9wC8KObEahHxF5FKE3YR6SUi8ebckzwYQ09VfQYcvQHgZhHpWIP3ye55MSYgd4eRMH1RzTZ+hpFUviIiTcxjdL25zBvG8NYpEQmGMS/Kvl+RItLb/CegAEaCVeF+qepLqupV2aOywMzffXcYQ3VOZmwuZpt7YSStz4gx4TkawH0w5vcQ0UVqtEkM8Nsf//EA/gJj3DwLxtyK/4fff+lUtv52APfD+E/wJIwvvQ0wkqO6jjUfxmTNz2FM0nwAxnwI+/LvYMyL+BHG0NA6c5H9LKv/Z5avN7vcVwGwT6YMN1+fNtebparJVYTzNYCNADYDWAYjgYCqfgXjv9yF5ja2wZjjUlM5MOaN7IHxRfoJgL+rqv2LvNJ9UNWfYU52BpALY56I/cyo+2H0mB0B8BWAv6rqyuqCUWOC7N0whrRyYHz5LLYvF2NS62kAqVU0sxpAAIzExe4/Zln5U6svKE4z1hdgzJFaJcZZSG/C+Hz8W0TyYQxtdamiieYwJg3nwRh6Wg3j+Ndk29kwJlU/axZV9VkDjOG7HBj7uQDAnxx6qSrbRimMXsIwGD2gh2C8H4Dx+3YNjPd9GRzeIxiJ/ysweoiOwjjuT9dkv2rhIRjJ0bswTqM/ByORs7sfxmfxhBnfs2YvIxFdJPn9MDpdKcz/+LYBcKtoHsFFtKsAws25Bo2aiDwIY9ikMV8jpVbMXqtPVDWkurpERNWpswtmUcMTkbtg/KfXBEaPyLd1mcDQ76nqFXXJfyIiq2nUw0lXoJEw5szshTHuP6phwyEiIrp0OJxERERElsSeGCIiIrKky35OTLNmzTQ0NLShwyAispSNGzceV1X/6msSWddln8SEhoYiJSWlocMgIrIUEanN1aWJLInDSURERGRJTGKIiIjIkpjEEBERkSVd9nNiiIiobmzcuDHA2dn5Axg3VeU/sXS5KwOwraSkZHhCQsKxiiowiSEiaiScnZ0/aN68ebS/v3+Ok5MTLxJGl7WysjLJzs6OOXr06AcA7qioDjNxIqLGI87f3z+PCQxZgZOTk/r7++fC6DmsuE49xkNERA3LiQkMWYn5ea00V2ESQ0RERJbEOTFERI1U6KRlCXXZXsYrt22sy/aIqsMkhoiueKGTltV6nYxXbrsEkVBlgoOD41NSUnYGBQWVXOptffzxx1fFxMQUJCQkFFRVb/z48S28vLxKp06dmlWTdo8fP2774IMP/CZNmpRdVb3ExMTI6dOnH7zxxhvP1iZuR506dYratGlT2oWuX5kpU6YEfvzxx81sNpteffXVJfPmzcuIiIgoAoC33nrr6unTpwcBwJNPPpn55z//+YTjukOHDm35xRdfNDt79uwmADhx4oTtnnvuaXP48GHX0tJS+fOf/3x03LhxJ87f6oXjcBIRETUqS5YsuWrr1q0edd3uiRMnbB9++GFAXbdbkUuRwABAQkLC2c2bN+/cvXv3jgEDBuQ88cQTIQCQlZVle/XVV1v8/PPPO1NSUna++uqrLbKzs2329dasWeOZm5v7u46Rv//97/6RkZHndu3atWPNmjW7nnvuuZYFBQVSl/EyiSEionrTp0+fdrGxsdFhYWGx06dPb1ZRnVmzZvnFx8dHR0VFxTzwwAOtS0pKsHv3btfWrVvHZWZmOpeWliIhISFy8eLFTXft2uXatm3b2MGDB7cOCwuLvf7668NPnz4tALB9+3a37t27h8fGxkYnJCREbtq0yX3lypVNVq1addXkyZNDoqKiYrZv3+5WVbxbt2717Nq1a0Tr1q3jZsyY0QwAcnNznbp16xYRExMTHREREfPJJ59cBQATJkwIOXjwoFtUVFTMyJEjQwBg8uTJgRERETGRkZExo0ePDra3++mnn/rGx8dHh4aGxq1YscKrsu2npKS4249FRERETGpqqhsAeHp6dgKAxx9/vEVUVFRMVFRUTEBAQPtBgwaFVnYMa+L222/P9/b2LgOAG2644XRmZqYrACxZssTnxhtvzAsMDCz19/cvvfHGG/MWL17sAwAlJSWYOHFiyJtvvnnIsS0RQX5+vq2srAx5eXlOPj4+JS4uLnU6sZzDSVc4dqMT0eVkwYIFGYGBgaWnT5+WTp06xTz44IM5zZs3L7Uv/+WXX9wXLVrkl5KSkubm5qYPPvhgq/fee+/qMWPGnBg3btzRYcOGtbr22mvPREZGFtx99915u3btcj1w4ID7J5988ut11123v1+/fm3nz5/vO3r06JPDhw9v/f777++Pj48v/OGHH5qMGjWq1fr163f36dPnVP/+/XOHDRuWU128O3fu9Ni4cePO/Px8W6dOnWIGDhyYGxwcXLxs2bJ0Pz+/sszMTOcuXbpEPfDAA6dmzJhxqH///h5paWk7AODzzz9vumzZMt+NGzemeXt7l2VlZf3Wc1FSUiKpqak7P/vsM5+pU6e2SEpK2l3R9t966y3/0aNHZ40aNepkQUGBlE9G3njjjSMAjpw4ccLWrVu3yHHjxh2r6hjedtttbffu3etefjtjxozJGjNmzO+GembPnu3fp0+fXAA4fPiwS0hISJF9WXBwcNHhw4ddAODll18O6Nev36nWrVsXO67/l7/85VhSUlJYYGBg+zNnztg++uijX202G+oSkxgiIqo3r776auCyZcuuAoCjR4+6bN++3b158+Zn7MtXrFjhvW3bNs8OHTpEA0BBQYFTQEBACQCMHz/++OLFi33nzp3rv3Xr1h32dYKDgwuvu+66cwDQqVOnsxkZGW65ublOmzZt8rrnnnva2esVFRXVeiijb9++p7y8vNTLy6ukW7dueWvXrm1y77335j7++OMh69ev93JycsKxY8dcDx06dN736cqVK5s++OCDx+09G4GBgb8la/fcc08OAFx33XVnJk6c6FrZ9rt163Zm+vTpQYcOHXIdPHhwTnx8fGH5OmVlZRg0aFCbxx57LKt79+5nX3rpJf/KjuGyZct+rcl+z5o1y2/Lli2es2fP3gUAqud3oIgIMjIyXJYsWeK7fv36XeWXL1myxCcuLu7cunXrdu/YscPt1ltvjbjlllu2+/n5ldUkhppgEkNERPVi6dKl3qtXr/ZOSUlJ8/b2LktMTIw8d+7c76Y1qKrcc889J955553D5dfPz893Onr0qCsA5OXl2Xx9fcsAwNXV9bdvWJvNpufOnXMqLS2Ft7d3ib1X5EKJyHmvZ8+e7XfixAnn1NTUnW5ubhocHBxffj/MfTlvfTt3d3cFAGdnZ5SWllaaXP3pT3862b179zNfffWVT9++fSNmzZqVcccdd+Q71pkwYUKLoKCgIvuk2aqOYU16YpYsWeI9ffr0oLVr1+7y8PBQAAgJCSlevXq1t73+4cOHXXv06JG/fv16z/3797uHhobGA0bC1KpVq7gDBw5smzdv3tWTJk066uTkhLi4uMKWLVsWbtmyxb1Xr14XPKG5PCYxRESNVH2fEn3q1Cmbj49Pqbe3d9mmTZvct2zZ0qR8naSkpLy777477Omnn84KDg4uycrKsuXm5toiIiKKxowZEzxo0KATrVu3Lnr44Ydb//jjj+mVbcvPz68sJCSk6KOPPvJ95JFHcsrKyrBhwwaPbt26nfPy8irNy8v7Lel46aWX/AHg6aefPu+sou++++6qF198MTMvL89p/fr13q+//vrhjz/+2LdZs2bFbm5u+u2333ofOXLEFQB8fHxKz5w581u7SUlJeS+++GKLRx999KR9OMmxN6YmduzY4RodHV0YGxt77Ndff3XbvHmzh2MS8+mnn/okJyc3Xbdu3W89IVUdw+p6Yv7v//7P489//nPr5cuX7wkODv5t7GrAgAG5U6dODbZP5l29enXT119//VBgYGDp4MGDt9jreXp6djpw4MA2wBhy+ve//900KSnp9MGDB51//fVX96ioqKLzt3rhmMQQEVG9GDhwYO7777/vHxEREdOuXbuCDh06nClfJyEhoWDy5MmHb7rppoiysjK4uLjozJkzD+zZs8d18+bNTT788MM0Z2dnfPXVV75vvvnm1UlJSfkVbQsAPv30018fffTR1q+++mpQSUmJ3HXXXSe7det2bsiQISdHjRoV+t577wUuWrRob1pamsf1119/uqI2OnXqdOamm24KP3LkiOuTTz6ZGRoaWjx8+PCTffv2DYuLi4uOjY0926ZNmwIAaN68eWlCQsLp8PDw2N69e+fOnj370C+//OLZsWPHaBcXF+3Tp0/u22+/fV7vSFU+/vhjvy+++OJqZ2dn9ff3L3755ZePOC5/4403Ao8dO+bSsWPHaABISko69cYbbxyp6BjaT5WuysSJE1uePXvWZh+Ga9GiRdEPP/yQHhgYWDpx4sQjCQkJ0QDwl7/85Uh1CdmLL76YOWTIkNCIiIgYVZUpU6YcqutT6KWica7LSefOnTUlJaWhw7AsTuwlapy/ByKyUVU7O5Zt2bIlo0OHDscbKqbLVa9evcK+++67vfYhHrq8bNmypVmHDh1CK1rGnhgiImrUqhqWossbkxgiIqIG9uWXXzZ95plnQhzLWrZsWbhy5cq9DRWTFTCJISIiamADBw7MGzhw4EWdSdUY8Yq9REREZEnsiSEiqs4UnwtYJ7fu4yCi32FPDBEREVlStT0xItISwHwAzQGUAXhfVd8UkSkAHgVgvzjQ06q63FznKQB/BFAKYKyq/sssTwAwF4AHgOUAxunlfo43EdGVaopPQt22l1uvF88jqklPTAmACaoaDaArgMdEJMZc9rqqdjQf9gQmBsBgALEAkgDMEhH7HZ/eBTACQLj5SKq7XSEiIvqf48eP21555RV/xzKbzZZgv+tz7969w+zlaWlpru3bt49q3bp13G233da2oKCgyvssLV261LtXr15hVdUpb+rUqQH5+flVfu+OHz++xXPPPRdYm3bLu++++1pv3LjxvFsLXKyvvvqqaWxsbHRERERMbGxs9DfffPPbbQgSExMjQ0ND4+zH9vDhw791knzwwQe+7dq1iw0LC4u9/fbb29RlTNUmMaqaqaq/mM/zAewEEFzFKncCWKiqhaq6D0A6gEQRCQLQVFXXmb0v8wEMuOg9ICIiyykrK0Npaa2uwF9rJ06csH344YcBjmVubm5laWlpO9LS0nb88MMPv10fZvz48SFjxozJ2r9//zYfH5+SN998s1ldxzN79uzA06dPX/JpHJ999tn+hISEgrpuNyAgoHjZsmXpu3fv3jF37tx9w4cP/11CMn/+/F/tx9Z+y4LU1FS3GTNmBK1fvz4tPT19+3vvvXewLmOq1cEUkVAAnQBsMIvGiMhWEflIRHzNsmAAjkEeMsuCzefly4mIqBHYtWuXa9u2bWMffPDBVrGxsTF79+51Xbx4cdOOHTtGxcTERPft27dtbm6uEwCMHj06uF27drERERExI0aMCAGAgQMHhj788MMtO3XqFBUSEhL/j3/8w/69g2effTYwLi4uOiIiIuaJJ55oAQATJkwIOXjwoFtUVFTMyJEjQyqOykio1q1b5z1s2LAcAHjkkUdOfPvtt1dVtz/5+fm2m2++uV27du1iH3jggVb2pGzIkCGt4uLiosPCwmLtsUybNi3g2LFjLj169Ijo0qVLBAAsWrSoaUxMTHRkZGRMt27dIuzt7ty50yMxMTEyJCQkftq0aQEVbhxAXl6eU8+ePcMiIyNjwsPDY+fMmeMLGL0ia9as8VywYIGPvWckNDQ0Ljg4OB4A1q5d63nttddGxsbGRt9www3h+/fvd6luXwHg+uuvPxcaGloMGLeHKCoqcjp37lyVPVbvvPOO/6OPPnrM39+/FAAc78dUF2p8dpKIeAH4EsDjqponIu8CeAGAmj9nAHgEQEU7pFWUV7StETCGndCqVauahkhERJe5jIwM9zlz5mR88sknBzIzM51feumloDVr1uxu2rRp2TPPPNP8hRdeCJw4ceKx5cuX+/7666/bnJyccPz4cfuUBGRlZbmkpKSkbd682f2uu+4KGzZsWM7ixYubpqenu2/dunWnqqJPnz5h3333ndeMGTMO9e/f38PxTtZFRUVOcXFx0TabTZ988smjDz300KmsrCxnb2/vUhcX47s8NDS0KCsry7W6fUlNTW2yadOmbREREUU33nhj+Pz5832HDRuW89prrx0ODAwsLSkpwXXXXRe5YcMGj8mTJx979913A1evXr07KCio5MiRI85jxowJTU5OTouKiirKysr6bR/T09Pdf/rpp12nTp2yRUdHx02cODHbzc3tvO/LxYsXN23evHlxcnJyOmD0PDkuHzJkSO6QIUNyAaBfv35tu3fvnl9YWChjx45ttWzZsvQWLVqUzJkzx/fJJ58M/uKLLzKeffbZwC+++OLq8tvp2rVr/ty5c3/XgzJv3jzfmJiYs/a7XAPA8OHDQ52cnHD77bfnvPrqq5lOTk5IT093A4BrrrkmqrS0FM8+++yRQYMG5VV3bGuqRkmMiLjASGAWqOpiAFDVLIflcwAsNV8eAtDSYfUQAEfM8pAKys+jqu8DeB8w7p1UkxiJiOjyFxQUVHTTTTedAYDk5OQme/fudU9MTIwCgOLiYklISDjt5+dX6ubmVjZ48ODWt912W+5999332/nqd9xxxymbzYaEhISCEydOuADAihUrmq5Zs6ZpTExMDACcPXvWKS0tzb1t27bn3fAwPT19a2hoaPGOHTtcb7755shrrrnmnK+v73njWiJS7XdPfHz8mZiYmCIAuPfee0+uXbvWa9iwYTnz5s3zmzt3brOSkhLJzs522bJli3uXLl3OOa6bnJzcJDExMd9+V2fHmynecsstpzw8PNTDw6PEz8+v+NChQ87t2rUrLr/9a6655twzzzzTctSoUcF33nlnblJSUoU3sZw8eXKgu7t72VNPPZX93//+133Pnj0evXv3jgCMXih/f/9iAHjhhReyXnjhhayK2nCUkpLi/txzzwWvWLFij73ss88++7VNmzbFOTk5Tv379283a9asq8eMGXOitLRU9u7d67Zu3bpd+/btc+nRo0dUz549tzdr1qxOxhJrcnaSAPgQwE5Vfc2hPEhVM82XdwHYZj7/BsA/ReQ1AC1gTOD9WVVLRSRfRLrCGI76A4C36mIniIjIGjw9Pcvsz1UVN9xwQ9633367r3y9zZs37/zmm2+aLly40Pfdd98NWL9+/W4AcLxJo/3kVlXF448/njlx4sTf3dxy165d5/Wm2IdDYmJiirp27Zr/888/ew4dOjQnPz/fVlxcDBcXF2RkZLgGBASclzSUZ3w9/v51Wlqa69tvvx24cePGnf7+/qUDBw4MLSgoOG/qhqqet76dY6+LzWZDSUlJhRXbt29f+Msvv+z48ssvfZ555pngVatW5U2fPj3Tsc7XX3/tvWTJEr/169enmduVsLCwc5s3b04r315NemL27t3rMmjQoLAPP/xwX2xsbKG9Tps2bYoBwNfXt+y+++47+fPPPzcBcCIoKKioa9euZ9zc3DQqKqqobdu2Bdu3b3fr0aPH2Qp3vpZq0hNzPYCHAKSKyGaz7GkA94tIRxhDQhkARgKAqm4Xkc8B7IBxZtNjqmrPuEbhf6dYf2c+iIioITTwKdE9e/Y8M2HChFbbtm1zi4uLK8zPz3fat2+fS+vWrYtPnz7tdN999+X27NnzdERERHxV7fTt2zdvypQpLUaMGHHSx8enbN++fS6urq7q49o8N0wAAB4lSURBVONTeubMmd8SiOzsbJuXl1eZh4eHZmZmOqekpHg9/fTTR52cnNC1a9f8f/zjH74jRozI+eijj67u37//KQD48ccfPWfOnBnw1VdfZZTfbmpqapO0tDTX8PDwokWLFvkNHz48Oycnx+bh4VHm5+dXevDgQefk5GSfHj165ANAkyZNSnNzc52CgoLQq1evMxMmTGidlpbmah9OcuyNqYmMjAyXgICAktGjR5/09vYumzdv3u8SkN27d7uOGzeu9YoVK3Z7eXkpALRv377g5MmTzqtWrWrSp0+fM4WFhZKamurWuXPngup6Yo4fP27r169f+JQpUw7dcsstZ+zlxcXFOH78uHNQUFBJYWGhLF++3Kd37975AHD33Xef+uc//+k3duzYE5mZmc779u1zj4yMLKxsG7VVbRKjqv9BxfNZllexzosAXqygPAVAXG0CJCKiK1OLFi1KZs+enTF48OC2RUVFAgB//etfD/v4+JT1798/rLCwUABg2rRpVZ7Rcvfdd+dt377d/dprr40CjN6eBQsW7IuNjS1MSEg4HR4eHtu7d+/cQYMG5Tz22GOtRcTee3PUfhbPjBkzDt13333tpk2bFhwbG3t23LhxxwEgIyPDzXHeh6OOHTuenjBhQkhaWppHly5d8h966KFTNpsNcXFxZ8PDw2NbtWpVmJCQ8NsQz9ChQ4/37ds3PCAgoHjDhg27Z86cmXHXXXeFlZWV4eqrry7+6aef9lS0ncps3LjR46mnngpxcnKCs7Ozzpo1a7/j8tmzZ1+dm5trGzBgQBgABAYGFq1evTp94cKFe8eOHdsqPz/fVlpaKqNGjcrq3LlztWcz/e1vfws4cOCA2yuvvNLilVdeaQEA33///W5vb++yPn36hBcXF0tZWZl07949b/z48dn292bFihVN27VrF2uz2XTq1KkHmzdvXmenpcnlfq25zp07a0pKSkOHYVmhk5bVep2MV267BJEQNZyL/j2w4G0HRGSjqnZ2LNuyZUtGhw4djle2Dp1v5MiRIY888siJ8nNaqP5s2bKlWYcOHUIrWsZ7JxEREVVi9uzZh6qvRQ2FSQwREdFl7OjRo7aePXtGli9PTk7eVZdDM1bEJIaIiOgy1rx581LHa93Q//Au1kRERGRJTGKIiIjIkpjEEBERkSVxTgwRUSMVPy8+oS7bSx2a2qAXz6PGhz0xRERUbzp16hRVX9uaNGlS87re9tChQ1t6enp2qq7e0qVLvXv16hVWm7anTp0akJ+fX+X38vjx41s899xzgbVpt7z77ruv9caNG90vpo2KHD161NalS5cIT0/PTn/4wx9+u3tzfn6+U8+ePcPatGkTGxYWFjt69Ohg+7I9e/a4dunSJSI6OjomIiIi5rPPPqvVRZmYxBARUb3ZtGnTeffsuVRmzpwZVJfbXrNmjWdubu4lG8GYPXt24OnTpy/59/Jnn322336l4rrk6empU6dOPTJlypTzrq0zYcKErH379m3ftm3bjg0bNnh9/vnnTQHgueeeC7r77rtzdu7cuePTTz/9dfz48a3Ob7lyTGKIiKje2Hsxli5d6p2YmBiZlJTUtk2bNrF33HFHm7Iy496Qq1ev9uzUqVNUZGRkTHx8fHROTo5TSUkJRo4cGRIXFxcdERER8/e//72ZvZ3OnTtH3nzzze3atWsX+8ADD7QqLS3F6NGjgwsLC52ioqJi7rjjjjaO2y4rK8PIkSNDwsPDYyMiImLmzJnjW11MJSUlmDhxYsibb75Z44vf5efn28rHBQBDhgxpFRcXFx0WFhb7xBNPtACAadOmBRw7dsylR48eEV26dIkAgEWLFjWNiYmJjoyMjOnWrVuEvd2dO3d6JCYmRoaEhMRPmzYtoLLt5+XlOfXs2TMsMjIyJjw8PNa+n4mJiZFr1qzxXLBggU9UVFRMVFRUTGhoaFxwcHA8AKxdu9bz2muvjYyNjY2+4YYbwvfv3+9Sk/1t2rRp2a233nra3d29zLHc29u77Pbbb88HjBt4tm/f/uzBgwddAeOmmXl5eTYAyMnJsdXkxpuOOCeGiKpmwUvukzXs3LnTY/Pmzb+GhoYWJyQkRK1cudKrR48eZ4YMGdJuwYIFe3v06HH25MmTTl5eXmVvvPFGMx8fn9Jt27btPHfunFx77bVRt99+ex5g3Ihx06ZN2yIiIopuvPHG8Pnz5/vOmjXr8Ny5cwMqur7K/Pnzr0pNTfXYuXPn9szMTOfExMToW2655XRlMd16662nX3755YB+/fqdat26dY2/ZCuKa9iwYTmvvfba4cDAwNKSkhJcd911kRs2bPCYPHnysXfffTdw9erVu4OCgkqOHDniPGbMmNDk5OQ0+w0i7e2mp6e7//TTT7tOnTpli46Ojps4cWK2452v7RYvXty0efPmxcnJyekAcOLECZvj8iFDhuQOGTIkFwD69evXtnv37vmFhYUyduzYVsuWLUtv0aJFyZw5c3yffPLJ4C+++CKjJne5rs7x48dtK1euvGrixIlZAPDyyy8fufnmm8M/+OCDgHPnzjktW7Zsd02PL8AkhoiIGkh8fPyZdu3aFQNAbGzs2b1797r6+vqWBgQEFPfo0eMsAPj5+ZUBwKpVq5qmpaV5fvPNN76A0cuxY8cOd1dXV42Pjz8TExNTBAD33nvvybVr13oNGzYsp7Ltrl271vvee+896ezsjJYtW5Z06dLl9H/+8x9PHx+fsopiysjIcFmyZInv+vXrd9V2/yqKa968eX5z585tVlJSItnZ2S5btmxxL39vpuTk5CaJiYn5UVFRRQDgeIfrW2655ZSHh4d6eHiU+Pn5FR86dMjZHrOja6655twzzzzTctSoUcF33nlnblJS0unydQBg8uTJge7u7mVPPfVU9n//+1/3PXv2ePTu3TsCMHqt/P39iwGgurtcV6e4uBh333132xEjRmTZj8s//vEPv/vvv//E888/n7Vq1aomDz/8cJvdu3dvt9ls1TUHgEkMERE1EMfeA5vNhpKSElFViMh5vQqqKjNmzDgwcODAPMfypUuXeovI7+qWf11BW7WKaf369Z779+93Dw0NjQeAgoICp1atWsUdOHBgW1XbqSiutLQ017fffjtw48aNO/39/UsHDhwYWlBQcN7UDvM41DjGiuq1b9++8Jdfftnx5Zdf+jzzzDPBq1atyps+fXqmY52vv/7ae8mSJX7r169PM7crYWFh5zZv3nze/KGL7Yl54IEHQtu2bVvw3HPPHbOXffLJJ81WrFixGwD69OlzprCw0Ono0aPOwcHBJdW1BzCJISJqtC7HU6I7dOhQkJWV5bp69WrPHj16nM3JyXHy8vIqu/nmm3Pfffdd//79++e7ubnp1q1b3UJDQ4sBY9gmLS3NNTw8vGjRokV+w4cPzwYAZ2dnLSwslPJDLT169MifM2eO/5gxY04cO3bM+eeff/aaOXPmwa1bt3pUFNPgwYNzBw8evMX+2tPTs5M9gfnxxx89Z86cGfDVV19llF+vorhycnJsHh4eZX5+fqUHDx50Tk5O9unRo0c+ADRp0qQ0NzfXKSgoCL169TozYcKE1mlpaa724STH3piayMjIcAkICCgZPXr0SW9v77J58+b9LgHZvXu367hx41qvWLFit5eXlwJA+/btC06ePOm8atWqJmZSIampqW6dO3cuuJiemLFjx7bIy8uzLVy48HfHqUWLFkXLly9vOnbs2BO//PKLe1FRkQQFBdUogQGYxBAR0WXE3d1dFyxYsHfs2LGtCgoKnNzd3cvWrFmz+4knnjiekZHhFh8fH62q4ufnV7x8+fK9ANCxY8fTEyZMCElLS/Po0qVL/kMPPXQKAIYMGZIdHR0dExcXd/abb77ZZ9/GQw89dOqnn37yio6OjhURff755w+1atWqZOvWrbWONyMjw83Dw6PCrp2K4rLZbIiLizsbHh4e26pVq8KEhITfhniGDh16vG/fvuEBAQHFGzZs2D1z5syMu+66K6ysrAxXX3118U8//bSnNrFt3LjR46mnngpxcnKCs7Ozzpo1a7/j8tmzZ1+dm5trGzBgQBgABAYGFq1evTp94cKFe8eOHdsqPz/fVlpaKqNGjcrq3Llzjc5mCg4Ojj99+rStuLhY/vWvf121fPny3VdddVXpW2+9FdSmTZuC2NjYGAAYMWLEsfHjxx9//fXXDz766KOh77zzTqCI4L333stwcqr5OUdSVbfa5aBz586akpLS0GFYVuikZbVeJ+OV2y5BJGRZV8DE3ov+PbDgMRCRjara2bFsy5YtGR06dDjeUDFdCkuXLvWeMWNG4I8//pjeENsfOXJkyCOPPHKi/JwWqjtbtmxp1qFDh9CKlrEnhoiI6ALNnj27xqdcU91jEkNERJbVv3///P79++c3dBwN6ejRo7aePXtGli9PTk7e1bx581rNo7EaJjFERI1HWVlZmTg5OV3e8wioVpo3b15a0fVwrgRlZWUCoKyy5bxiLxFR47EtOzvbx/xiILqslZWVSXZ2tg+ASk9lZ08MEVEjUVJSMvzo0aMfHD16NA78J5Yuf2UAtpWUlAyvrAKTGCKiRiIhIeEYgDsaOg6iusJMnIiIiCyJSQwRERFZEpMYIiIisiQmMURERGRJTGKIiIjIkpjEEBERkSVVm8SISEsR+VFEdorIdhEZZ5b7ichKEdlj/vR1WOcpEUkXkV0icqtDeYKIpJrLZooIL7hEREREF6QmPTElACaoajSArgAeE5EYAJMAfK+q4QC+N1/DXDYYQCyAJACzRMRmtvUugBEAws1HUh3uCxERETUi1SYxqpqpqr+Yz/MB7AQQDOBOAPPMavMADDCf3wlgoaoWquo+AOkAEkUkCEBTVV2nqgpgvsM6RERERLVSqzkxIhIKoBOADQACVTUTMBIdAAFmtWAABx1WO2SWBZvPy5dXtJ0RIpIiIinZ2dm1CZGIiIgaiRonMSLiBeBLAI+ral5VVSso0yrKzy9UfV9VO6tqZ39//5qGSERERI1IjZIYEXGBkcAsUNXFZnGWOUQE8+cxs/wQgJYOq4cAOGKWh1RQTkRERFRrNTk7SQB8CGCnqr7msOgbAEPN50MBfO1QPlhE3ESkDYwJvD+bQ075ItLVbPMPDusQERER1UpN7mJ9PYCHAKSKyGaz7GkArwD4XET+COAAgHsAQFW3i8jnAHbAOLPpMVUtNdcbBWAuAA8A35kPIiIiolqrNolR1f+g4vksAHBTJeu8CODFCspTAMTVJkAiIiKiivCKvURERGRJTGKIiIjIkpjEEBERkSUxiSEiIiJLYhJDRERElsQkhoiIiCyJSQwRERFZEpMYIiIisiQmMURERGRJTGKIiIjIkpjEEBERkSUxiSEiIiJLYhJDRERElsQkhoiIiCyJSQwRERFZEpMYIiIisiQmMURERGRJTGKIiIjIkpjEEBERkSU5N3QARJe9KT4XsE5u3cdBRES/w54YIiIisiQmMURERGRJTGKIiIjIkq7oOTGhk5bVep2MV267BJEQERFRXWNPDBEREVkSkxgiIiKyJCYxREREZElMYoiIiMiSmMQQERGRJVWbxIjIRyJyTES2OZRNEZHDIrLZfPRzWPaUiKSLyC4RudWhPEFEUs1lM0VE6n53iIiIqLGoSU/MXABJFZS/rqodzcdyABCRGACDAcSa68wSEZtZ/10AIwCEm4+K2iQiIiKqkWqTGFVdA+BkDdu7E8BCVS1U1X0A0gEkikgQgKaquk5VFcB8AAMuNGgiIiKii5kTM0ZEtprDTb5mWTCAgw51Dpllwebz8uUVEpERIpIiIinZ2dkXESIRERFdqS40iXkXQDsAHQFkAphhllc0z0WrKK+Qqr6vqp1VtbO/v/8FhkhERERXsgtKYlQ1S1VLVbUMwBwAieaiQwBaOlQNAXDELA+poJyIiIjoglxQEmPOcbG7C4D9zKVvAAwWETcRaQNjAu/PqpoJIF9EuppnJf0BwNcXETcRERE1ctXeAFJEPgXQE0AzETkE4K8AeopIRxhDQhkARgKAqm4Xkc8B7ABQAuAxVS01mxoF40wnDwDfmQ8iIiKiC1JtEqOq91dQ/GEV9V8E8GIF5SkA4moVHREREVEleMVeIiIisiQmMURERGRJTGKIiIjIkpjEEBERkSUxiSEiIiJLYhJDRERElsQkhoiIiCyJSQwRERFZEpMYIiIisiQmMURERGRJTGKIiIjIkpjEEBERkSUxiSEiIiJLYhJDRERElsQkhoiIiCyJSQwRERFZEpMYIiIisiQmMURERGRJTGKIiIjIkpjEEBERkSUxiSEiIiJLYhJDRERElsQkhoiIiCyJSQwRERFZEpMYIiIisiTnhg6ALnNTfC5gndy6j4OIiKgc9sQQERGRJTGJISIiIkuqNokRkY9E5JiIbHMo8xORlSKyx/zp67DsKRFJF5FdInKrQ3mCiKSay2aKiNT97hAREVFjUZOemLkAksqVTQLwvaqGA/jefA0RiQEwGECsuc4sEbGZ67wLYASAcPNRvk0iIiKiGqs2iVHVNQBOliu+E8A88/k8AAMcyheqaqGq7gOQDiBRRIIANFXVdaqqAOY7rENERERUaxc6JyZQVTMBwPwZYJYHAzjoUO+QWRZsPi9fXiERGSEiKSKSkp2dfYEhEhER0ZWsrif2VjTPRasor5Cqvq+qnVW1s7+/f50FR0RERFeOC01isswhIpg/j5nlhwC0dKgXAuCIWR5SQTkRERHRBbnQJOYbAEPN50MBfO1QPlhE3ESkDYwJvD+bQ075ItLVPCvpDw7rEBEREdVatVfsFZFPAfQE0ExEDgH4K4BXAHwuIn8EcADAPQCgqttF5HMAOwCUAHhMVUvNpkbBONPJA8B35oOIiIjoglSbxKjq/ZUsuqmS+i8CeLGC8hQAcbWKjoiIiKgSvGIvERERWRKTGCIiIrIkJjFERERkSUxiiIiIyJKYxBAREZElMYkhIiIiS6r2FGsiIro48fPia71O6tDUSxAJ0ZWFPTFERERkSUxiiIiIyJKYxBAREZElMYkhIiIiS2ISQ0RERJbEJIaIiIgsiUkMERERWRKvE0NElxyvk0JElwJ7YoiIiMiSmMQQERGRJTGJISIiIktiEkNERESWxCSGiIiILIlJDBEREVkSkxgiIiKyJCYxREREZElMYoiIiMiSmMQQERGRJTGJISIiIkvivZOqMsXnAtbJrfs4iIiI6DzsiSEiIiJLYhJDRERElnRRSYyIZIhIqohsFpEUs8xPRFaKyB7zp69D/adEJF1EdonIrRcbPBERETVeddET00tVO6pqZ/P1JADfq2o4gO/N1xCRGACDAcQCSAIwS0RsdbB9IiIiaoQuxXDSnQDmmc/nARjgUL5QVQtVdR+AdACJl2D7RERE1AhcbBKjAP4tIhtFZIRZFqiqmQBg/gwwy4MBHHRY95BZdh4RGSEiKSKSkp2dfZEhEhER0ZXoYk+xvl5Vj4hIAICVIpJWRV2poEwrqqiq7wN4HwA6d+5cYR0iq4ifF1/rdVKHpl6CSIiIriwX1ROjqkfMn8cAfAVjeChLRIIAwPx5zKx+CEBLh9VDABy5mO0TERFR43XBSYyINBERb/tzALcA2AbgGwBDzWpDAXxtPv8GwGARcRORNgDCAfx8odsnIiKixu1ihpMCAXwlIvZ2/qmqK0TkvwA+F5E/AjgA4B4AUNXtIvI5gB0ASgA8pqqlFxU9ERERNVoXnMSo6q8AOlRQfgLATZWs8yKAFy90m0RERER2vGIvERERWRKTGCIiIrIkJjFERERkSUxiiIiIyJKYxBAREZElMYkhIiIiS2ISQ0RERJbEJIaIiIgsiUkMERERWRKTGCIiIrKki7l3ElG14ufF13qd1KGplyASIiK60rAnhoiIiCyJSQwRERFZEpMYIiIisiQmMURERGRJTGKIiIjIkpjEEBERkSUxiSEiIiJLYhJDRERElsQkhoiIiCyJV+y9hHi1WiIiokuHPTFERERkSUxiiIiIyJKYxBAREZElMYkhIiIiS2ISQ0RERJbEJIaIiIgsiUkMERERWRKTGCIiIrKkek9iRCRJRHaJSLqITKrv7RMREdGVoV6TGBGxAXgHQF8AMQDuF5GY+oyBiIiIrgz13ROTCCBdVX9V1SIACwHcWc8xEBER0RVAVLX+NiYyCECSqg43Xz8EoIuqjilXbwSAEebLSAC76i3ImmsG4HhDB9GAGvv+AzwGAI8BcPkeg9aq6t/QQRBdSvV9A0ipoOy8LEpV3wfw/qUP58KJSIqqdm7oOBpKY99/gMcA4DEAeAyIGlJ9DycdAtDS4XUIgCP1HAMRERFdAeo7ifkvgHARaSMirgAGA/imnmMgIiKiK0C9DiepaomIjAHwLwA2AB+p6vb6jKEOXdbDXfWgse8/wGMA8BgAPAZEDaZeJ/YSERER1RVesZeIiIgsiUkMERERWRKTmFoSkY9E5JiIbGvoWBqCiLQUkR9FZKeIbBeRcQ0dU0MQEZuIbBKRpQ0dS0MQkSfM93+biHwqIu4NHdOlVtnvvoj82byVynYR+VtDxUfUGDGJqb25AJIaOogGVAJggqpGA+gK4LFGeuuIcQB2NnQQDUFEggGMBdBZVeNgTNIf3LBR1Yu5KPe7LyK9YFx1vL2qxgKY3gBxETVaTGJqSVXXADjZ0HE0FFXNVNVfzOf5ML7Igxs2qvolIiEAbgPwQUPH0oCcAXiIiDMATzSC6z1V8rs/CsArqlpo1jlW74ERNWJMYuiCiUgogE4ANjRsJPXuDQB/AVDW0IE0BFU9DKPH4QCATAC5qvrvho2qwUQA6C4iG0RktYhc29ABETUmTGLogoiIF4AvATyuqnkNHU99EZH+AI6p6saGjqWhiIgvjCGUNgBaAGgiIg82bFQNxhmAL4yh1YkAPheRim6vQkSXAJMYqjURcYGRwCxQ1cUNHU89ux7AHSKSAeMu7L1F5JOGDane9QGwT1WzVbUYwGIA1zVwTA3lEIDFavgZRu9cswaOiajRYBJDtWL+l/khgJ2q+lpDx1PfVPUpVQ1R1VAYk1l/UNXG1gtxAEBXEfE0Pw83oZFOcgawBEBvABCRCACuuDzvaE10RWISU0si8imAdQAiReSQiPyxoWOqZ9cDeAhGD8Rm89GvoYOi+qOqGwAsAvALgFQYf0eu+EvvV/K7/xGAtuZp1wsBDFVeBp2o3vC2A0RERGRJ7IkhIiIiS2ISQ0RERJbEJIaIiIgsiUkMERERWRKTGCIiIrIkJjF0xRCRUvOU720i8oWIeJrlz5h3GN5qLu9SwbpzRWSfuXyLiNx0EXE8LCJvm8//JCJ/uPC9IiKiyjg3dABEdeicqnYEABFZAOBPIrIOQH8A16hqoYg0g3FBsopMVNVF5p2J3wcQfrEBqep7F9sGERFVjD0xdKVaCyAMQBCA4w53GT6uqtXdcXkdHO7MLSIJ5s39NorIv0QkyCxPFpE3ROQns/cnsXxDIjJFRJ40n4eJyCqzp+cXEWknIl4i8r35OlVE7jTrNhGRZWbdbSJyX50cFSKiKwiTGLriiIgzgL4wrib7bwAtRWS3iMwSkR41aCIJxuXk7feJegvAIFVNgHGF1hcd6jZR1esAjDaXVWUBgHdUtQOMew1lAigAcJeqXgOgF4AZ5qX8kwAcUdUOqhoHYEVN9p2IqDHhcBJdSTxEZLP5fC2AD1W1SEQSAHSHkSR8JiKTVHVuBev/XUT+BiAAxl2JASASQByAlebNiW0wkg+7TwFAVdeISFMRuaqiwETEG0Cwqn5l1i8wy10AvCQiN8K4eWAwgEAYCdh0EXkVwFJVXVv7w0FEdGVjEkNXkt/mxDhS1VIAyQCSRSQVwFAAcytYfyKMOzKPBTAPQAIAAbBdVbtVss3y9+2o7D4eUkn5EAD+ABJUtdi8O7a7qu42k69+AF4WkX+r6tRK2iAiapQ4nERXNBGJFBHHCbodAeyvrL6qlgF4E4CTiNwKYBcAfxHpZrbnIiKxDqvcZ5bfACBXVXMraTcPwCERGWDWdzPPnvIBcMxMYHoBaG0ubwHgrKp+AmA6gGsuYPeJiK5o7ImhK50XgLfMYZ4SAOkARlS1gqqqiEwD8BdV/ZeIDAIwU0R8YPzOvAFgu1k9R0R+AtAUwCPVxPIQgNkiMhVAMYB7YMyT+VZEUgBsBpBm1o2HMbxVZtYdVZudJiJqDHgXa6ILJCLJAJ5U1ZSGjoWIqDHicBIRERFZEntiiIiIyJLYE0NERESWxCSGiIiILIlJDBEREVkSkxgiIiKyJCYxREREZEn/Hw32XWQxxNdhAAAAAElFTkSuQmCC\n",
      "text/plain": [
       "<Figure size 432x288 with 1 Axes>"
      ]
     },
     "metadata": {
      "needs_background": "light"
     },
     "output_type": "display_data"
    }
   ],
   "source": [
    "plot_column_2('imgs-per-second', 'replicas-ps')\n",
    "#plot_column('gpu-utilization')\n",
    "#plot_column('gpu-memory')\n",
    "#plot_column('gpu-temperature')\n",
    "#plot_column('gpu-power-usage')"
   ]
  },
  {
   "cell_type": "code",
   "execution_count": null,
   "metadata": {},
   "outputs": [],
   "source": []
  }
 ],
 "metadata": {
  "kernelspec": {
   "display_name": "Python 3",
   "language": "python",
   "name": "python3"
  },
  "kubeflow_notebook": {
   "docker_image": "gitlab-registry.cern.ch/ai-ml/images/kale-custom",
   "experiment": {
    "id": "",
    "name": ""
   },
   "experiment_name": "",
   "katib_metadata": {
    "algorithm": {
     "algorithmName": "grid"
    },
    "maxFailedTrialCount": 3,
    "maxTrialCount": 12,
    "objective": {
     "objectiveMetricName": "",
     "type": "minimize"
    },
    "parallelTrialCount": 3,
    "parameters": []
   },
   "katib_run": false,
   "pipeline_description": "",
   "pipeline_name": "",
   "volumes": []
  },
  "language_info": {
   "codemirror_mode": {
    "name": "ipython",
    "version": 3
   },
   "file_extension": ".py",
   "mimetype": "text/x-python",
   "name": "python",
   "nbconvert_exporter": "python",
   "pygments_lexer": "ipython3",
   "version": "3.6.5"
  }
 },
 "nbformat": 4,
 "nbformat_minor": 4
}
