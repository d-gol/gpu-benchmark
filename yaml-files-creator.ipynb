{
 "cells": [
  {
   "cell_type": "code",
   "execution_count": 22,
   "metadata": {},
   "outputs": [],
   "source": [
    "def create_new_yamls(sizes, networks, file):\n",
    "    for batch_size in sizes:\n",
    "        for network in networks:\n",
    "            create_new_yaml(batch_size, network, file)\n",
    "\n",
    "def create_new_yaml(batch_size, network, filepath):\n",
    "    with open(filepath, 'r') as read:\n",
    "        with open('yaml_experiments/dejan-' + network + '-' + str(batch_size) + '.yaml', 'w') as write:\n",
    "            content = read.read()\n",
    "            content = content.replace('--batch_size=***', '--batch_size=' + str(batch_size))\n",
    "            content = content.replace('--model=***', '--model=' + network)\n",
    "            content = content.replace('name: \"name-***\"', 'name: \"dejan-tfjob-' + network + '-' + \\\n",
    "                                      str(batch_size) + '\"')\n",
    "            write.write(content)"
   ]
  },
  {
   "cell_type": "code",
   "execution_count": 23,
   "metadata": {
    "tags": []
   },
   "outputs": [],
   "source": [
    "create_new_yamls([32, 64, 128], ['alexnet', 'inception4', 'resnet50'], 'template.yaml')\n",
    "\n",
    "create_new_yaml(256, 'alexnet', 'template.yaml')\n",
    "create_new_yaml(256, 'resnet', 'template.yaml')\n",
    "create_new_yaml(512, 'alexnet', 'template.yaml')\n",
    "create_new_yaml(1024, 'alexnet', 'template.yaml')\n",
    "create_new_yaml(2048, 'alexnet', 'template.yaml')"
   ]
  },
  {
   "cell_type": "code",
   "execution_count": null,
   "metadata": {},
   "outputs": [],
   "source": []
  }
 ],
 "metadata": {
  "kernelspec": {
   "display_name": "Python 3",
   "language": "python",
   "name": "python3"
  },
  "kubeflow_notebook": {
   "docker_image": "gitlab-registry.cern.ch/ai-ml/images/kale-custom",
   "experiment": {
    "id": "",
    "name": ""
   },
   "experiment_name": "",
   "katib_metadata": {
    "algorithm": {
     "algorithmName": "grid"
    },
    "maxFailedTrialCount": 3,
    "maxTrialCount": 12,
    "objective": {
     "objectiveMetricName": "",
     "type": "minimize"
    },
    "parallelTrialCount": 3,
    "parameters": []
   },
   "katib_run": false,
   "pipeline_description": "",
   "pipeline_name": "",
   "volumes": []
  },
  "language_info": {
   "codemirror_mode": {
    "name": "ipython",
    "version": 3
   },
   "file_extension": ".py",
   "mimetype": "text/x-python",
   "name": "python",
   "nbconvert_exporter": "python",
   "pygments_lexer": "ipython3",
   "version": "3.6.9"
  }
 },
 "nbformat": 4,
 "nbformat_minor": 4
}
